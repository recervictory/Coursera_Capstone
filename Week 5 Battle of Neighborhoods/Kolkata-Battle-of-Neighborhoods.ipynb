{
 "nbformat": 4,
 "nbformat_minor": 2,
 "metadata": {
  "language_info": {
   "name": "python",
   "codemirror_mode": {
    "name": "ipython",
    "version": 3
   },
   "version": "3.7.4-final"
  },
  "orig_nbformat": 2,
  "file_extension": ".py",
  "mimetype": "text/x-python",
  "name": "python",
  "npconvert_exporter": "python",
  "pygments_lexer": "ipython3",
  "version": 3,
  "kernelspec": {
   "name": "python3",
   "display_name": "Python 3"
  }
 },
 "cells": [
  {
   "cell_type": "markdown",
   "metadata": {},
   "source": [
    "# Capstone Project - Kolkata - (The City of Joy) Restaurant Business Analysis (Week 5)\n",
    "### Applied Data Science Capstone by IBM/Coursera\n",
    "### By Victor Banerjee\n",
    "('Data\\Images\\kolkata-skyline-in-watercolor-background-pablo-romero.jpg' \"Title\")"
   ]
  },
  {
   "cell_type": "markdown",
   "metadata": {},
   "source": [
    "## Table of contents\n",
    "* [Introduction: Business Problem](#introduction)\n",
    "* [Data](#data)\n",
    "* [Methodology](#methodology)\n",
    "* [Analysis](#analysis)\n",
    "* [Results and Discussion](#results)\n",
    "* [Conclusion](#conclusion)"
   ]
  },
  {
   "cell_type": "markdown",
   "metadata": {},
   "source": [
    "## Introduction: Business Problem <a name=\"introduction\"></a>"
   ]
  },
  {
   "cell_type": "markdown",
   "metadata": {},
   "source": [
    "In the project I tried to find an optimal location for a restaurant. The stakeholders is very new in the restaurant bisness so they are totally depends on my anlysis to find a **optimal location** for thems to start new restaurant chain business.  \n",
    "\n",
    "As **Kolkata,IN** is one of the four major cities in India the most part of the **Kolkata,IN** is crowded with multiple restaurants. As it is a 300 year olds cities lots of types cusine restaurant are predominant in Kolkata. My goal is to **provide few optimal options to the stakeholders to run a profitable business restaurant**.\n",
    "I will try to find the optimal place with with following critaria :\n",
    "\n",
    "    1. Less crowded with popular restaurants.\n",
    "    2. Customer Rating Of the restaurant\n",
    "    3. Possibile cusine for the restaurant\n",
    "    4. Highly popular place in Kolkata \n",
    "\n",
    "In the final step I will try to find few promising areas in Kolkata meet the stakeholders critaria. Using **E**xploratory **D**ata **A**nalysis with provide summary of Kolkata restaurant business paradigm."
   ]
  },
  {
   "cell_type": "markdown",
   "metadata": {},
   "source": [
    "# Data <a name=\"data\"></a>"
   ]
  },
  {
   "cell_type": "markdown",
   "metadata": {},
   "source": [
    "By understanding our current business problem I have outline few factors that the decisions are:\n",
    "* Popularity of the Place in Kolkata and distance from it\n",
    "* Numbers of and distance to the Popular restaurant are in the neighborhood\n",
    "* What types and kinds of cusines available in the Kolkata restaurants\n",
    "* Customers sentiments on restaurant business\n",
    "\n",
    "To resolve the business problem following datasets are needed to extract/ genrate data to summerize our prospectives:\n",
    "- Kolkata's pincodes Coordinates are extract from Google Search Page by BeutifulSoup Library\n",
    "- FourSquare api is used to genrate neighborhood datasets\n",
    "- \n"
   ]
  },
  {
   "cell_type": "code",
   "execution_count": null,
   "metadata": {},
   "outputs": [],
   "source": []
  }
 ]
}