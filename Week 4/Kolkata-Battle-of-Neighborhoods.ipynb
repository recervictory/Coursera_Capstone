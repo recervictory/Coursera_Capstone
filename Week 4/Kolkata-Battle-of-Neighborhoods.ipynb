{
 "nbformat": 4,
 "nbformat_minor": 2,
 "metadata": {
  "language_info": {
   "name": "python",
   "codemirror_mode": {
    "name": "ipython",
    "version": 3
   },
   "version": "3.7.4-final"
  },
  "orig_nbformat": 2,
  "file_extension": ".py",
  "mimetype": "text/x-python",
  "name": "python",
  "npconvert_exporter": "python",
  "pygments_lexer": "ipython3",
  "version": 3,
  "kernelspec": {
   "name": "python3",
   "display_name": "Python 3"
  }
 },
 "cells": [
  {
   "cell_type": "markdown",
   "metadata": {},
   "source": [
    "<img src=\"https://i.ibb.co/NjSZDm5/kolkata-skyline-in-watercolor-background-pablo-romero.jpg\" alt=\"kolkata\"\n",
    "\ttitle=\"Kolkata\" width = 1000/>\n",
    "\n",
    "# Capstone Project - Kolkata - (The City of Joy) Restaurant Business Analysis \n",
    "### Applied Data Science Capstone by IBM/Coursera\n",
    "### By Victor Banerjee\n"
   ]
  },
  {
   "cell_type": "markdown",
   "metadata": {},
   "source": [
    "## Table of contents\n",
    "* [Introduction: Business Problem](#introduction)\n",
    "* [Data](#data)\n",
    "* [Methodology](#methodology)\n",
    "* [Analysis](#analysis)\n",
    "* [Results and Discussion](#results)\n",
    "* [Conclusion](#conclusion)"
   ]
  },
  {
   "cell_type": "markdown",
   "metadata": {},
   "source": [
    "## Introduction: Business Problem <a name=\"introduction\"></a>"
   ]
  },
  {
   "cell_type": "markdown",
   "metadata": {},
   "source": [
    "In the project I tried to find an optimal location for a restaurant. The stakeholders is very new in the restaurant business so they are totally depends on my analysis to find a **optimal location**  to start new restaurant chain business.  \n",
    "\n",
    "As **Kolkata,IN** is one of the four major cities in India the most part of the **Kolkata,IN** is crowded with multiple restaurants. As it is a 300 year old cities lots of types cuisine restaurant are predominant in Kolkata. My goal is to **provide few optimal options to the stakeholders to run a profitable business restaurant**.\n",
    "I will try to find the optimal place with with following criteria :\n",
    "\n",
    "    1. Less crowded with popular restaurants.\n",
    "    2. Customer Rating Of the restaurant\n",
    "    3. Possible cuisine for the restaurant\n",
    "    4. Highly popular place in Kolkata \n",
    "\n",
    "In the final step I will try to find few promising areas in Kolkata meet the stakeholders criteria. Using **E**xploratory **D**ata **A**nalysis with provide summary of Kolkata restaurant business paradigm."
   ]
  },
  {
   "cell_type": "markdown",
   "metadata": {},
   "source": [
    "# Data <a name=\"data\"></a>"
   ]
  },
  {
   "cell_type": "markdown",
   "metadata": {},
   "source": [
    "By understanding our current business problem I have outline few factors that the decisions are:\n",
    "* Popularity of the Place in Kolkata and distance from it\n",
    "* Numbers of and distance to the Popular restaurant are in the neighborhood\n",
    "* What types and kinds of cuisines available in the Kolkata restaurants\n",
    "* Customers sentiments on restaurant business\n",
    "\n",
    "To resolve the business problem following datasets are needed to extract/ generate data to summarize our prospective:\n",
    "- Kolkata's pin codes Coordinates are extract from Google Search Page by BeutifulSoup Library\n",
    "- FourSquare Api is used to generate neighborhood datasets\n",
    "- Zomato Api is used to generate restaurants details datasets\n",
    "- Zomato Api is used for generating Customers reviews datasets\n",
    "\n",
    "Python Library Used\n",
    "~~~\n",
    "from bs4 import BeautifulSoup #Web Scrapping\n",
    "import numpy as np\n",
    "from tabulate import tabulate\n",
    "import json #library for Json file\n",
    "from geopy.geocoders import Nominatim # Convert an address into latitude and longitude values\n",
    "import folium # Map rendering library\n",
    "~~~\n"
   ]
  },
  {
   "cell_type": "markdown",
   "metadata": {},
   "source": [
    "## Methodology <a name=\"methodology\"></a>"
   ]
  },
  {
   "cell_type": "markdown",
   "metadata": {},
   "source": [
    "- I have used **BeautifulSoup** Kolkata's pincodes Coordinates scrap data from Google search page.\n",
    "- There are no python codes available for extracting Zomato restaurants details, for I have created a **Object class for python to request Zomato Api**. \n",
    "- Data cleaning and EDA is done using Python Pandas and Numpy Library\n",
    "- Folium Map used for displaying spatial location of the restaurants.\n",
    "- NLP used for Review sentiment analysis"
   ]
  },
  {
   "cell_type": "markdown",
   "metadata": {},
   "source": [
    "# Zomato API request"
   ]
  },
  {
   "cell_type": "code",
   "execution_count": 1,
   "metadata": {},
   "outputs": [],
   "source": [
    "# Zomato web acesss\n",
    "class Zomato:\n",
    "    def __init__(self, user_key, content_type = 'application/json'):\n",
    "        self._key = user_key\n",
    "        self.request_count = 0\n",
    "        self.content_type = content_type\n",
    "        self._header = {\n",
    "                    'Accept': content_type,\n",
    "                    'user-key': user_key,\n",
    "                            }\n",
    "        self._categories_id = {}\n",
    "\n",
    "    def get_response(self,api,params=''):\n",
    "        import requests\n",
    "        headers = self._header\n",
    "        status = {  200 :'Sucessfully Connected to Zomato..',\n",
    "                    403 :'Connection Error: Invalid User Keys',\n",
    "                    404 : 'No Connection to Server..'\n",
    "                }\n",
    "        response = requests.get(api, headers=headers,params=params)\n",
    "        print(status[response.status_code])\n",
    "        if response.status_code == 200:\n",
    "            self.request_count += 1\n",
    "            return response.json()\n",
    "    \n",
    "    def categories(self,method='get'):\n",
    "        api = 'https://developers.zomato.com/api/v2.1/categories'\n",
    "        response = self.get_response(api)\n",
    "        result_dict = {categories['categories']['name']: categories['categories']['id'] for categories in response['categories']}\n",
    "        if method == 'set':\n",
    "            self._categories_id = result_dict \n",
    "        return result_dict\n",
    "    \n",
    "    def cities(self,city_name='',id='',lat='',lon=''):\n",
    "        params = (\n",
    "            ('q', city_name),\n",
    "            ('lat', lat),\n",
    "            ('lon', lon),\n",
    "            ('city_ids', id))\n",
    "\n",
    "        api = 'https://developers.zomato.com/api/v2.1/cities'\n",
    "        response = self.get_response(api,params=params)  \n",
    "        return response\n",
    "\n",
    "    def cuisines(self,city_id='',lat='',lon=''):\n",
    "        params = (\n",
    "            ('city_id', city_id),\n",
    "            ('lat', lat),\n",
    "            ('lon', lon))\n",
    "        api = 'https://developers.zomato.com/api/v2.1/cuisines'\n",
    "        response = self.get_response(api,params=params)  \n",
    "        return response\n",
    "    \n",
    "    def geocode(self,lat='',lon=''):\n",
    "        api = 'https://developers.zomato.com/api/v2.1/geocode'\n",
    "        params = (\n",
    "            ('lat', lat),\n",
    "            ('lon', lon))\n",
    "        response = self.get_response(api,params=params)  \n",
    "        return response\n",
    "\n",
    "    def location(self,city='',lat='',lon='',max_count=100):\n",
    "        api = 'https://developers.zomato.com/api/v2.1/locations'\n",
    "        params = (\n",
    "        ('query', city),\n",
    "        ('lat', lat),\n",
    "        ('lon', lon),\n",
    "        ('count', str(max_count)))\n",
    "        response = self.get_response(api,params=params)  \n",
    "        return response\n",
    "    \n",
    "    def location_details(self,city='',lat='',lon=''):\n",
    "        r = self.location(city,lat,lon,1)\n",
    "        entity_id = r['location_suggestions'][0]['entity_id']\n",
    "        entity_type = r['location_suggestions'][0]['entity_type']\n",
    "\n",
    "        params = (\n",
    "            ('entity_id', entity_id),\n",
    "            ('entity_type', entity_type))\n",
    "        api = 'https://developers.zomato.com/api/v2.1/location_details'\n",
    "\n",
    "        response = self.get_response(api,params=params)  \n",
    "        return response\n",
    "    \n",
    "    def restaurant(self,res_id=''):\n",
    "        api = 'https://developers.zomato.com/api/v2.1/restaurant'\n",
    "        params = (\n",
    "                ('res_id', res_id),)\n",
    "        response = self.get_response(api,params=params) \n",
    "        return response\n",
    "    \n",
    "    def reviews(self,res_id='',start='1',count='10'):\n",
    "        api = 'https://developers.zomato.com/api/v2.1/reviews'\n",
    "        params = (\n",
    "            ('res_id', res_id),\n",
    "            ('start', start),\n",
    "            ('count', count),) \n",
    "        response = self.get_response(api,params=params) \n",
    "        return response"
   ]
  },
  {
   "cell_type": "code",
   "execution_count": 2,
   "metadata": {},
   "outputs": [],
   "source": [
    "# Importing Python Library\n",
    "import pandas as pd #library for Dataframe\n",
    "import numpy as np # Array \n",
    "import json #library for json file\n",
    "import folium # Map Rendering library\n",
    "from geopy.geocoders import Nominatim # convert an address into latitude and longitude values"
   ]
  },
  {
   "cell_type": "code",
   "execution_count": 5,
   "metadata": {},
   "outputs": [
    {
     "name": "stdout",
     "output_type": "stream",
     "text": "The geograpical coordinate of **Kolkata, IN** are 22.54541245, 88.3567751581234.\n"
    }
   ],
   "source": [
    "# Kolkata's Coordinates\n",
    "\n",
    "address = 'Kolkata, IN'\n",
    "\n",
    "geolocator = Nominatim(user_agent=\"ny_explorer\")\n",
    "location = geolocator.geocode(address)\n",
    "latitude = location.latitude\n",
    "longitude = location.longitude\n",
    "\n",
    "print('The geograpical coordinate of **{}** are {}, {}.'.format(address,latitude, longitude))"
   ]
  },
  {
   "cell_type": "code",
   "execution_count": 14,
   "metadata": {},
   "outputs": [
    {
     "data": {
      "text/html": "<div>\n<style scoped>\n    .dataframe tbody tr th:only-of-type {\n        vertical-align: middle;\n    }\n\n    .dataframe tbody tr th {\n        vertical-align: top;\n    }\n\n    .dataframe thead th {\n        text-align: right;\n    }\n</style>\n<table border=\"1\" class=\"dataframe\">\n  <thead>\n    <tr style=\"text-align: right;\">\n      <th></th>\n      <th>pincode</th>\n      <th>latitude</th>\n      <th>longitude</th>\n      <th>location</th>\n      <th>subzone</th>\n      <th>top_cuisines</th>\n      <th>popularity</th>\n      <th>nearby_res</th>\n    </tr>\n  </thead>\n  <tbody>\n    <tr>\n      <td>114</td>\n      <td>700122</td>\n      <td>22.766851</td>\n      <td>88.376411</td>\n      <td>Barrackpore</td>\n      <td>Barrackpore</td>\n      <td>Chinese,North Indian,Fast Food,Bengali,Mughlai</td>\n      <td>4.17</td>\n      <td>17983797,18311142,18698012,23973,18663023,2364...</td>\n    </tr>\n    <tr>\n      <td>113</td>\n      <td>700121</td>\n      <td>22.766614</td>\n      <td>88.422983</td>\n      <td>Barrackpore</td>\n      <td>Barrackpore</td>\n      <td>Chinese,North Indian,Fast Food,Bengali,Mughlai</td>\n      <td>4.17</td>\n      <td>17983797,18311142,18698012,23973,18663023,2364...</td>\n    </tr>\n    <tr>\n      <td>112</td>\n      <td>700120</td>\n      <td>22.752200</td>\n      <td>88.379000</td>\n      <td>Barrackpore</td>\n      <td>Barrackpore</td>\n      <td>Chinese,North Indian,Fast Food,Bengali,Mughlai</td>\n      <td>4.17</td>\n      <td>17983797,18311142,18698012,23973,18663023,2364...</td>\n    </tr>\n    <tr>\n      <td>111</td>\n      <td>700119</td>\n      <td>22.734883</td>\n      <td>88.396685</td>\n      <td>Khardah</td>\n      <td>Khardah</td>\n      <td>Chinese,North Indian,Fast Food,Biryani,Bengali</td>\n      <td>3.95</td>\n      <td>19127565,24311,25341,19114341,18198698,1860263...</td>\n    </tr>\n    <tr>\n      <td>109</td>\n      <td>700117</td>\n      <td>22.723511</td>\n      <td>88.375425</td>\n      <td>Khardah</td>\n      <td>Khardah</td>\n      <td>Chinese,North Indian,Fast Food,Biryani,Bengali</td>\n      <td>3.95</td>\n      <td>19127565,24311,25341,19114341,18198698,1860263...</td>\n    </tr>\n  </tbody>\n</table>\n</div>",
      "text/plain": "     pincode   latitude  longitude     location      subzone  \\\n114   700122  22.766851  88.376411  Barrackpore  Barrackpore   \n113   700121  22.766614  88.422983  Barrackpore  Barrackpore   \n112   700120  22.752200  88.379000  Barrackpore  Barrackpore   \n111   700119  22.734883  88.396685      Khardah      Khardah   \n109   700117  22.723511  88.375425      Khardah      Khardah   \n\n                                       top_cuisines  popularity  \\\n114  Chinese,North Indian,Fast Food,Bengali,Mughlai        4.17   \n113  Chinese,North Indian,Fast Food,Bengali,Mughlai        4.17   \n112  Chinese,North Indian,Fast Food,Bengali,Mughlai        4.17   \n111  Chinese,North Indian,Fast Food,Biryani,Bengali        3.95   \n109  Chinese,North Indian,Fast Food,Biryani,Bengali        3.95   \n\n                                            nearby_res  \n114  17983797,18311142,18698012,23973,18663023,2364...  \n113  17983797,18311142,18698012,23973,18663023,2364...  \n112  17983797,18311142,18698012,23973,18663023,2364...  \n111  19127565,24311,25341,19114341,18198698,1860263...  \n109  19127565,24311,25341,19114341,18198698,1860263...  "
     },
     "execution_count": 14,
     "metadata": {},
     "output_type": "execute_result"
    }
   ],
   "source": [
    "kolkata = pd.read_csv('kolkata_resturent.csv',index_col=0)\n",
    "kolkata.head()"
   ]
  },
  {
   "cell_type": "code",
   "execution_count": 16,
   "metadata": {},
   "outputs": [
    {
     "data": {
      "text/plain": "pincode           int64\nlatitude        float64\nlongitude       float64\nlocation         object\nsubzone          object\ntop_cuisines     object\npopularity      float64\nnearby_res       object\ndtype: object"
     },
     "execution_count": 16,
     "metadata": {},
     "output_type": "execute_result"
    }
   ],
   "source": [
    "kolkata.dtypes"
   ]
  },
  {
   "cell_type": "code",
   "execution_count": 15,
   "metadata": {},
   "outputs": [],
   "source": [
    "map_kolkata = folium.Map(location=[latitude, longitude], zoom_start=10)\n",
    "\n",
    "# add markers to map\n",
    "for lat, lng, pincode in zip(kolkata['latitude'], kolkata['longitude'],kolkata['pincode']):\n",
    "    label = '{}'.format(pincode)\n",
    "    label = folium.Popup(label, parse_html=True)\n",
    "    folium.CircleMarker(\n",
    "        [lat, lng],\n",
    "        radius=5,\n",
    "        popup=label,\n",
    "        color='blue',\n",
    "        fill=True,\n",
    "        fill_color='#3186cc',\n",
    "        fill_opacity=0.7,\n",
    "        parse_html=False).add_to(map_kolkata)  \n",
    "    \n",
    "#map_kolkata"
   ]
  },
  {
   "cell_type": "code",
   "execution_count": 21,
   "metadata": {},
   "outputs": [],
   "source": [
    "\n",
    "def generateBaseMap(default_location=[latitude, longitude], default_zoom_start=12):\n",
    "    base_map = folium.Map(location=default_location, control_scale=True, zoom_start=default_zoom_start)\n",
    "    return base_map\n",
    "\n",
    "base_map = generateBaseMap()"
   ]
  },
  {
   "cell_type": "code",
   "execution_count": 27,
   "metadata": {},
   "outputs": [
    {
     "data": {
      "text/html": "<div style=\"width:100%;\"><div style=\"position:relative;width:100%;height:0;padding-bottom:60%;\"><iframe src=\"about:blank\" style=\"position:absolute;width:100%;height:100%;left:0;top:0;border:none !important;\" data-html=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 onload=\"this.contentDocument.open();this.contentDocument.write(atob(this.getAttribute('data-html')));this.contentDocument.close();\" allowfullscreen webkitallowfullscreen mozallowfullscreen></iframe></div></div>",
      "text/plain": "<folium.folium.Map at 0x269cda45588>"
     },
     "execution_count": 27,
     "metadata": {},
     "output_type": "execute_result"
    }
   ],
   "source": [
    "from folium.plugins import HeatMap\n",
    "\n",
    "base_map = generateBaseMap()\n",
    "HeatMap(data=kolkata[['latitude', 'longitude', 'popularity']].groupby(['latitude', 'longitude']).sum().reset_index().values.tolist(), radius=12, max_zoom=13).add_to(base_map)\n",
    "base_map"
   ]
  },
  {
   "cell_type": "code",
   "execution_count": null,
   "metadata": {},
   "outputs": [],
   "source": []
  }
 ]
}