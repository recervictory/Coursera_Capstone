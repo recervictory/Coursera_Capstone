{
 "nbformat": 4,
 "nbformat_minor": 2,
 "metadata": {
  "language_info": {
   "name": "python",
   "codemirror_mode": {
    "name": "ipython",
    "version": 3
   },
   "version": "3.7.4-final"
  },
  "orig_nbformat": 2,
  "file_extension": ".py",
  "mimetype": "text/x-python",
  "name": "python",
  "npconvert_exporter": "python",
  "pygments_lexer": "ipython3",
  "version": 3,
  "kernelspec": {
   "name": "python3",
   "display_name": "Python 3"
  }
 },
 "cells": [
  {
   "cell_type": "markdown",
   "metadata": {},
   "source": [
    "<img src=\"https://i.ibb.co/NjSZDm5/kolkata-skyline-in-watercolor-background-pablo-romero.jpg\" alt=\"kolkata\"\n",
    "\ttitle=\"Kolkata\" width = 1000/>\n",
    "\n",
    "# Capstone Project - Kolkata - (The City of Joy) Restaurant Business Analysis \n",
    "### Applied Data Science Capstone by IBM/Coursera\n",
    "### By Victor Banerjee\n"
   ]
  },
  {
   "cell_type": "markdown",
   "metadata": {},
   "source": [
    "## Table of contents\n",
    "* [Introduction: Business Problem](#introduction)\n",
    "* [Data](#data)\n",
    "* [Methodology](#methodology)\n",
    "* [Analysis](#analysis)\n",
    "* [Results and Discussion](#results)\n",
    "* [Conclusion](#conclusion)"
   ]
  },
  {
   "cell_type": "markdown",
   "metadata": {},
   "source": [
    "## Introduction: Business Problem <a name=\"introduction\"></a>"
   ]
  },
  {
   "cell_type": "markdown",
   "metadata": {},
   "source": [
    "In the project I tried to find an optimal location for a restaurant. The stakeholders is very new in the restaurant business so they are totally depends on my analysis to find a **optimal location**  to start new restaurant chain business.  \n",
    "\n",
    "As **Kolkata,IN** is one of the four major cities in India the most part of the **Kolkata,IN** is crowded with multiple restaurants. As it is a 300 year old cities lots of types cuisine restaurant are predominant in Kolkata. My goal is to **provide few optimal options to the stakeholders to run a profitable business restaurant**.\n",
    "I will try to find the optimal place with with following criteria :\n",
    "\n",
    "    1. Less crowded with popular restaurants.\n",
    "    2. Customer Rating Of the restaurant\n",
    "    3. Possible cuisine for the restaurant\n",
    "    4. Highly popular place in Kolkata \n",
    "\n",
    "In the final step I will try to find few promising areas in Kolkata meet the stakeholders criteria. Using **E**xploratory **D**ata **A**nalysis with provide summary of Kolkata restaurant business paradigm."
   ]
  },
  {
   "cell_type": "markdown",
   "metadata": {},
   "source": [
    "# Data <a name=\"data\"></a>"
   ]
  },
  {
   "cell_type": "markdown",
   "metadata": {},
   "source": [
    "By understanding our current business problem I have outline few factors that the decisions are:\n",
    "* Popularity of the Place in Kolkata and distance from it\n",
    "* Numbers of and distance to the Popular restaurant are in the neighborhood\n",
    "* What types and kinds of cuisines available in the Kolkata restaurants\n",
    "* Customers sentiments on restaurant business\n",
    "\n",
    "To resolve the business problem following datasets are needed to extract/ generate data to summarize our prospective:\n",
    "- Kolkata's pin codes Coordinates are extract from Google Search Page by BeutifulSoup Library\n",
    "- FourSquare Api is used to generate neighborhood datasets\n",
    "- Zomato Api is used to generate restaurants details datasets\n",
    "- Zomato Api is used for generating Customers reviews datasets\n",
    "\n",
    "Python Library Used\n",
    "~~~\n",
    "from bs4 import BeautifulSoup #Web Scrapping\n",
    "import numpy as np\n",
    "from tabulate import tabulate\n",
    "import json #library for Json file\n",
    "from geopy.geocoders import Nominatim # Convert an address into latitude and longitude values\n",
    "import folium # Map rendering library\n",
    "~~~\n"
   ]
  },
  {
   "cell_type": "markdown",
   "metadata": {},
   "source": [
    "## Methodology <a name=\"methodology\"></a>"
   ]
  },
  {
   "cell_type": "markdown",
   "metadata": {},
   "source": [
    "In this project i have used **BeautifulSoup** kolkata's pincodes Coordinates scrap data from Google se"
   ]
  }
 ]
}