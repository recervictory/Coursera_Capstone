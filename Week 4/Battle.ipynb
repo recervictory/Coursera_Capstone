{
 "nbformat": 4,
 "nbformat_minor": 2,
 "metadata": {
  "language_info": {
   "name": "python",
   "codemirror_mode": {
    "name": "ipython",
    "version": 3
   },
   "version": "3.7.4-final"
  },
  "orig_nbformat": 2,
  "file_extension": ".py",
  "mimetype": "text/x-python",
  "name": "python",
  "npconvert_exporter": "python",
  "pygments_lexer": "ipython3",
  "version": 3,
  "kernelspec": {
   "name": "python3",
   "display_name": "Python 3"
  }
 },
 "cells": [
  {
   "cell_type": "markdown",
   "metadata": {},
   "source": [
    "Coursera capstone"
   ]
  },
  {
   "cell_type": "code",
   "execution_count": 1,
   "metadata": {},
   "outputs": [],
   "source": [
    "zomatao_user_key = 'b348f057e5edb73209c2caa7f6dcb638'\n",
    "kol_geojson = 'https://raw.githubusercontent.com/datameet/Municipal_Spatial_Data/master/Kolkata/kolkata.geojson'"
   ]
  },
  {
   "cell_type": "code",
   "execution_count": 2,
   "metadata": {},
   "outputs": [],
   "source": [
    "# Zomato web acesss\n",
    "class Zomato:\n",
    "    def __init__(self, user_key, content_type = 'application/json'):\n",
    "        self._key = user_key\n",
    "        self.request_count = 0\n",
    "        self.content_type = content_type\n",
    "        self._header = {\n",
    "                    'Accept': content_type,\n",
    "                    'user-key': user_key,\n",
    "                            }\n",
    "        self._categories_id = {}\n",
    "\n",
    "    def get_response(self,api,params=''):\n",
    "        import requests\n",
    "        headers = self._header\n",
    "        status = {  200 :'Sucessfully Connected to Zomato..',\n",
    "                    403 :'Connection Error: Invalid User Keys',\n",
    "                    404 : 'No Connection to Server..'\n",
    "                }\n",
    "        response = requests.get(api, headers=headers,params=params)\n",
    "        print(status[response.status_code])\n",
    "        if response.status_code == 200:\n",
    "            self.request_count += 1\n",
    "            return response.json()\n",
    "    \n",
    "    def categories(self,method='get'):\n",
    "        api = 'https://developers.zomato.com/api/v2.1/categories'\n",
    "        response = self.get_response(api)\n",
    "        result_dict = {categories['categories']['name']: categories['categories']['id'] for categories in response['categories']}\n",
    "        if method == 'set':\n",
    "            self._categories_id = result_dict \n",
    "        return result_dict\n",
    "    \n",
    "    def cities(self,city_name='',id='',lat='',lon=''):\n",
    "        params = (\n",
    "            ('q', city_name),\n",
    "            ('lat', lat),\n",
    "            ('lon', lon),\n",
    "            ('city_ids', id))\n",
    "\n",
    "        api = 'https://developers.zomato.com/api/v2.1/cities'\n",
    "        response = self.get_response(api,params=params)  \n",
    "        return response\n",
    "\n",
    "    def cuisines(self,city_id='',lat='',lon=''):\n",
    "        params = (\n",
    "            ('city_id', city_id),\n",
    "            ('lat', lat),\n",
    "            ('lon', lon))\n",
    "        api = 'https://developers.zomato.com/api/v2.1/cuisines'\n",
    "        response = self.get_response(api,params=params)  \n",
    "        return response\n",
    "    \n",
    "    def geocode(self,lat='',lon=''):\n",
    "        api = 'https://developers.zomato.com/api/v2.1/geocode'\n",
    "        params = (\n",
    "            ('lat', lat),\n",
    "            ('lon', lon))\n",
    "        response = self.get_response(api,params=params)  \n",
    "        return response\n",
    "\n",
    "    def location(self,city='',lat='',lon='',max_count=100):\n",
    "        api = 'https://developers.zomato.com/api/v2.1/locations'\n",
    "        params = (\n",
    "        ('query', city),\n",
    "        ('lat', lat),\n",
    "        ('lon', lon),\n",
    "        ('count', str(max_count)))\n",
    "        response = self.get_response(api,params=params)  \n",
    "        return response\n",
    "    \n",
    "    def location_details(self,city='',lat='',lon=''):\n",
    "        r = self.location(city,lat,lon,1)\n",
    "        entity_id = r['location_suggestions'][0]['entity_id']\n",
    "        entity_type = r['location_suggestions'][0]['entity_type']\n",
    "\n",
    "        params = (\n",
    "            ('entity_id', entity_id),\n",
    "            ('entity_type', entity_type))\n",
    "        api = 'https://developers.zomato.com/api/v2.1/location_details'\n",
    "\n",
    "        response = self.get_response(api,params=params)  \n",
    "        return response\n",
    "    \n",
    "    def restaurant(self,res_id=''):\n",
    "        api = 'https://developers.zomato.com/api/v2.1/restaurant'\n",
    "        params = (\n",
    "                ('res_id', '16765362'),)\n",
    "        response = self.get_response(api,params=params) \n",
    "        return response\n",
    "    \n",
    "    def reviews(self,res_id='',start='1',count='10'):\n",
    "        api = 'https://developers.zomato.com/api/v2.1/reviews'\n",
    "        params = (\n",
    "            ('res_id', res_id),\n",
    "            ('start', start),\n",
    "            ('count', count),) \n",
    "        response = self.get_response(api,params=params) \n",
    "        return response\n"
   ]
  },
  {
   "cell_type": "code",
   "execution_count": 3,
   "metadata": {},
   "outputs": [],
   "source": [
    "zomato = Zomato(zomatao_user_key)"
   ]
  },
  {
   "cell_type": "code",
   "execution_count": 4,
   "metadata": {},
   "outputs": [],
   "source": [
    "# kolkata pincode corrdinates\n",
    "from bs4 import BeautifulSoup #Web Scrapping\n",
    "import pandas as pd #library for dataframe\n",
    "pd.set_option('display.max_rows', None)\n",
    "pd.set_option('display.max_columns', None)\n",
    "import numpy as np\n",
    "from tabulate import tabulate\n",
    "import json #library for json file\n",
    "from geopy.geocoders import Nominatim # convert an address into latitude and longitude values\n",
    "import folium # map rendering library"
   ]
  },
  {
   "cell_type": "code",
   "execution_count": 5,
   "metadata": {},
   "outputs": [],
   "source": [
    "with open(\"pincode.html\", \"r\") as f:\n",
    "    \n",
    "    contents = f.read()\n",
    "\n",
    "    soup = BeautifulSoup(contents, 'lxml')"
   ]
  },
  {
   "cell_type": "code",
   "execution_count": 37,
   "metadata": {},
   "outputs": [
    {
     "data": {
      "text/html": "<div>\n<style scoped>\n    .dataframe tbody tr th:only-of-type {\n        vertical-align: middle;\n    }\n\n    .dataframe tbody tr th {\n        vertical-align: top;\n    }\n\n    .dataframe thead th {\n        text-align: right;\n    }\n</style>\n<table border=\"1\" class=\"dataframe\">\n  <thead>\n    <tr style=\"text-align: right;\">\n      <th></th>\n      <th>pincode</th>\n      <th>cordinates</th>\n    </tr>\n  </thead>\n  <tbody>\n    <tr>\n      <td>0</td>\n      <td>700001</td>\n      <td>(22.5736, 88.3483)</td>\n    </tr>\n    <tr>\n      <td>4</td>\n      <td>700002</td>\n      <td>(22.6189, 88.3732)</td>\n    </tr>\n    <tr>\n      <td>41</td>\n      <td>700005</td>\n      <td>(22.5981, 88.3581)</td>\n    </tr>\n    <tr>\n      <td>9</td>\n      <td>700006</td>\n      <td>(22.5891, 88.3688)</td>\n    </tr>\n    <tr>\n      <td>7</td>\n      <td>700007</td>\n      <td>(22.5826, 88.3617)</td>\n    </tr>\n    <tr>\n      <td>50</td>\n      <td>700008</td>\n      <td>(22.4812, 88.3135)</td>\n    </tr>\n    <tr>\n      <td>26</td>\n      <td>700009</td>\n      <td>(22.5767, 88.3735)</td>\n    </tr>\n    <tr>\n      <td>42</td>\n      <td>700012</td>\n      <td>(22.5684, 88.3616)</td>\n    </tr>\n    <tr>\n      <td>14</td>\n      <td>700014</td>\n      <td>(22.5596, 88.3705)</td>\n    </tr>\n    <tr>\n      <td>15</td>\n      <td>700016</td>\n      <td>(22.5535, 88.3566)</td>\n    </tr>\n    <tr>\n      <td>11</td>\n      <td>700017</td>\n      <td>(22.5409, 88.3681)</td>\n    </tr>\n    <tr>\n      <td>8</td>\n      <td>700019</td>\n      <td>(22.5280, 88.3660)</td>\n    </tr>\n    <tr>\n      <td>32</td>\n      <td>700020</td>\n      <td>(22.5378, 88.3515)</td>\n    </tr>\n    <tr>\n      <td>10</td>\n      <td>700023</td>\n      <td>(22.5317, 88.3196)</td>\n    </tr>\n    <tr>\n      <td>29</td>\n      <td>700024</td>\n      <td>(22.5485, 88.2877)</td>\n    </tr>\n    <tr>\n      <td>39</td>\n      <td>700027</td>\n      <td>(22.5260, 88.3341)</td>\n    </tr>\n    <tr>\n      <td>20</td>\n      <td>700028</td>\n      <td>(22.6320, 88.4166)</td>\n    </tr>\n    <tr>\n      <td>23</td>\n      <td>700029</td>\n      <td>(22.5176, 88.3494)</td>\n    </tr>\n    <tr>\n      <td>37</td>\n      <td>700032</td>\n      <td>(22.4937, 88.3693)</td>\n    </tr>\n    <tr>\n      <td>48</td>\n      <td>700034</td>\n      <td>(22.4979, 88.3191)</td>\n    </tr>\n    <tr>\n      <td>5</td>\n      <td>700039</td>\n      <td>(22.5280, 88.3863)</td>\n    </tr>\n    <tr>\n      <td>46</td>\n      <td>700040</td>\n      <td>(22.4869, 88.3509)</td>\n    </tr>\n    <tr>\n      <td>36</td>\n      <td>700046</td>\n      <td>(22.5461, 88.3861)</td>\n    </tr>\n    <tr>\n      <td>49</td>\n      <td>700053</td>\n      <td>(22.5108, 88.3328)</td>\n    </tr>\n    <tr>\n      <td>30</td>\n      <td>700054</td>\n      <td>(22.5801, 88.3905)</td>\n    </tr>\n    <tr>\n      <td>44</td>\n      <td>700055</td>\n      <td>(22.6111, 88.4091)</td>\n    </tr>\n    <tr>\n      <td>27</td>\n      <td>700056</td>\n      <td>(22.6736, 88.3870)</td>\n    </tr>\n    <tr>\n      <td>6</td>\n      <td>700059</td>\n      <td>(22.6138, 88.4339)</td>\n    </tr>\n    <tr>\n      <td>19</td>\n      <td>700064</td>\n      <td>(22.5925, 88.4127)</td>\n    </tr>\n    <tr>\n      <td>13</td>\n      <td>700084</td>\n      <td>(22.4600, 88.3822)</td>\n    </tr>\n    <tr>\n      <td>2</td>\n      <td>700091</td>\n      <td>(22.5817, 88.4304)</td>\n    </tr>\n    <tr>\n      <td>17</td>\n      <td>700102</td>\n      <td>(22.5950, 88.4367)</td>\n    </tr>\n    <tr>\n      <td>45</td>\n      <td>700103</td>\n      <td>(22.4453, 88.4056)</td>\n    </tr>\n    <tr>\n      <td>24</td>\n      <td>700104</td>\n      <td>(22.4288, 88.2880)</td>\n    </tr>\n    <tr>\n      <td>28</td>\n      <td>700107</td>\n      <td>(22.5132, 88.4018)</td>\n    </tr>\n    <tr>\n      <td>40</td>\n      <td>700110</td>\n      <td>(22.6932, 88.3793)</td>\n    </tr>\n    <tr>\n      <td>38</td>\n      <td>700120</td>\n      <td>(22.7522, 88.3790)</td>\n    </tr>\n    <tr>\n      <td>12</td>\n      <td>700124</td>\n      <td>(22.7187, 88.5044)</td>\n    </tr>\n    <tr>\n      <td>3</td>\n      <td>700135</td>\n      <td>(22.5995, 88.5287)</td>\n    </tr>\n    <tr>\n      <td>21</td>\n      <td>700136</td>\n      <td>(22.6216, 88.4355)</td>\n    </tr>\n    <tr>\n      <td>33</td>\n      <td>700141</td>\n      <td>(22.4734, 88.2510)</td>\n    </tr>\n    <tr>\n      <td>18</td>\n      <td>700150</td>\n      <td>(22.4813, 88.4501)</td>\n    </tr>\n    <tr>\n      <td>1</td>\n      <td>700156</td>\n      <td>(22.5837, 88.4696)</td>\n    </tr>\n    <tr>\n      <td>35</td>\n      <td>700157</td>\n      <td>(22.6145, 88.4530)</td>\n    </tr>\n    <tr>\n      <td>22</td>\n      <td>711102</td>\n      <td>(22.5665, 88.3215)</td>\n    </tr>\n    <tr>\n      <td>43</td>\n      <td>711103</td>\n      <td>(22.5574, 88.3094)</td>\n    </tr>\n    <tr>\n      <td>16</td>\n      <td>741235</td>\n      <td>(22.9666, 88.4368)</td>\n    </tr>\n    <tr>\n      <td>47</td>\n      <td>743126</td>\n      <td>(22.8764, 88.4391)</td>\n    </tr>\n    <tr>\n      <td>31</td>\n      <td>743127</td>\n      <td>(22.8256, 88.4060)</td>\n    </tr>\n    <tr>\n      <td>34</td>\n      <td>743144</td>\n      <td>(22.7955, 88.3728)</td>\n    </tr>\n    <tr>\n      <td>25</td>\n      <td>743145</td>\n      <td>(22.9376, 88.4348)</td>\n    </tr>\n  </tbody>\n</table>\n</div>",
      "text/plain": "   pincode          cordinates\n0   700001  (22.5736, 88.3483)\n4   700002  (22.6189, 88.3732)\n41  700005  (22.5981, 88.3581)\n9   700006  (22.5891, 88.3688)\n7   700007  (22.5826, 88.3617)\n50  700008  (22.4812, 88.3135)\n26  700009  (22.5767, 88.3735)\n42  700012  (22.5684, 88.3616)\n14  700014  (22.5596, 88.3705)\n15  700016  (22.5535, 88.3566)\n11  700017  (22.5409, 88.3681)\n8   700019  (22.5280, 88.3660)\n32  700020  (22.5378, 88.3515)\n10  700023  (22.5317, 88.3196)\n29  700024  (22.5485, 88.2877)\n39  700027  (22.5260, 88.3341)\n20  700028  (22.6320, 88.4166)\n23  700029  (22.5176, 88.3494)\n37  700032  (22.4937, 88.3693)\n48  700034  (22.4979, 88.3191)\n5   700039  (22.5280, 88.3863)\n46  700040  (22.4869, 88.3509)\n36  700046  (22.5461, 88.3861)\n49  700053  (22.5108, 88.3328)\n30  700054  (22.5801, 88.3905)\n44  700055  (22.6111, 88.4091)\n27  700056  (22.6736, 88.3870)\n6   700059  (22.6138, 88.4339)\n19  700064  (22.5925, 88.4127)\n13  700084  (22.4600, 88.3822)\n2   700091  (22.5817, 88.4304)\n17  700102  (22.5950, 88.4367)\n45  700103  (22.4453, 88.4056)\n24  700104  (22.4288, 88.2880)\n28  700107  (22.5132, 88.4018)\n40  700110  (22.6932, 88.3793)\n38  700120  (22.7522, 88.3790)\n12  700124  (22.7187, 88.5044)\n3   700135  (22.5995, 88.5287)\n21  700136  (22.6216, 88.4355)\n33  700141  (22.4734, 88.2510)\n18  700150  (22.4813, 88.4501)\n1   700156  (22.5837, 88.4696)\n35  700157  (22.6145, 88.4530)\n22  711102  (22.5665, 88.3215)\n43  711103  (22.5574, 88.3094)\n16  741235  (22.9666, 88.4368)\n47  743126  (22.8764, 88.4391)\n31  743127  (22.8256, 88.4060)\n34  743144  (22.7955, 88.3728)\n25  743145  (22.9376, 88.4348)"
     },
     "execution_count": 37,
     "metadata": {},
     "output_type": "execute_result"
    }
   ],
   "source": [
    "pincodes = soup.find_all('div',class_='jbzYp')\n",
    "pincodes = [pc.string for pc in pincodes]\n",
    "\n",
    "cordinates = soup.find_all('div',class_='title')\n",
    "cordinates = [(c.string.split(\", \")[0][:7],c.string.split(\", \")[1][:7]) for c in cordinates]\n",
    "\n",
    "kolkata_pincodes = pd.DataFrame({'pincode':pincodes,'cordinates':cordinates}).sort_values(by='pincode')\n",
    "kolkata_pincodes"
   ]
  },
  {
   "cell_type": "code",
   "execution_count": null,
   "metadata": {},
   "outputs": [],
   "source": []
  }
 ]
}